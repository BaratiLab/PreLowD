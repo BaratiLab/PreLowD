{
 "cells": [
  {
   "cell_type": "code",
   "execution_count": null,
   "metadata": {},
   "outputs": [],
   "source": [
    "import ipywidgets as widgets\n",
    "from ipywidgets import interact\n",
    "from Datasets import PDEDataset\n",
    "import matplotlib.pyplot as plt\n",
    "\n",
    "# mail-02\n",
    "data_parent_folder = '/media/pouya/DATA1/PDE_data'\n",
    "# check the data\n",
    "!ls $data_parent_folder/FPNO_data"
   ]
  },
  {
   "cell_type": "markdown",
   "metadata": {},
   "source": [
    "# 1D Advection, Diffusion"
   ]
  },
  {
   "cell_type": "code",
   "execution_count": null,
   "metadata": {},
   "outputs": [],
   "source": [
    "data_file = data_parent_folder + '/FPNO_data/1D_Advection_Beta0.4.hdf5'\n",
    "data_file = data_parent_folder + '/FPNO_data/1D_Diffusion_Nu0.002.hdf5'\n",
    "\n",
    "u1d = 'u'\n",
    "\n",
    "dataset = PDEDataset(data_file, rx=None, verbose=True, load_now=False) # default resolution is 1024\n",
    "\n",
    "u1d_rng = dataset.Vars[u1d]['maxabs']"
   ]
  },
  {
   "cell_type": "code",
   "execution_count": null,
   "metadata": {},
   "outputs": [],
   "source": [
    "@interact\n",
    "def plot(\n",
    "    dynamic_button = widgets.ToggleButton(\n",
    "        value=False, description='Dynamic', button_style='', tooltip='Description', icon='check'),\n",
    "    index = widgets.IntSlider(\n",
    "        value=0, min=0, max=dataset.N-1, step=1, \n",
    "        description='index', style={'description_width': 'initial'}, layout=widgets.Layout(width='600px')),\n",
    "    timestep = widgets.IntSlider(\n",
    "        value=0, min=0, max=dataset.nt-1, step=1, \n",
    "        description='timestep', style={'description_width': 'initial'}, layout=widgets.Layout(width='600px')),\n",
    "    rng = widgets.FloatRangeSlider(\n",
    "        value=[-1, 1], min=-u1d_rng, max=u1d_rng, step=0.01, \n",
    "        description='range', style={'description_width': 'initial'}, layout=widgets.Layout(width='400px'))\n",
    "):\n",
    "    \n",
    "    fig, ax = plt.subplots(figsize=(8, 6))\n",
    "    x = dataset.Coords['x-coordinate']['data']\n",
    "\n",
    "    if dynamic_button:\n",
    "        t = dataset.Coords['t-coordinate']['data'][timestep]\n",
    "        u = dataset.Vars[u1d]['data'][index, timestep]\n",
    "\n",
    "        fig.suptitle(f'sample {index} | timestep {timestep} | time {t:.2f}')\n",
    "        ax.set_title(u1d)\n",
    "        ax.set_xlabel('x')\n",
    "        ax.set_ylabel(u1d)\n",
    "        ax.plot(x, u)\n",
    "        ax.set_ylim(rng)\n",
    "        ax.grid(True, which='both', linestyle='--')\n",
    "    else:\n",
    "        t = dataset.Coords['t-coordinate']['data']\n",
    "        u = dataset.Vars[u1d]['data'][index]\n",
    "\n",
    "        fig.suptitle(f'sample {index}')\n",
    "        ax.set_title(u1d)\n",
    "        ax.set_xlabel('x')\n",
    "        ax.set_ylabel('t')\n",
    "        im = ax.pcolormesh(x, t, u, cmap='seismic', vmin=rng[0], vmax=rng[1], shading='gouraud')\n",
    "        fig.colorbar(im, ax=ax)\n",
    "    \n",
    "    plt.show()"
   ]
  },
  {
   "cell_type": "markdown",
   "metadata": {},
   "source": [
    "# 2D Advection, Diffusion"
   ]
  },
  {
   "cell_type": "code",
   "execution_count": null,
   "metadata": {},
   "outputs": [],
   "source": [
    "data_file = data_parent_folder + '/FPNO_data/2D_Advection_Beta0.4.hdf5' # 0.1, 0.4, 1.0, 4.0\n",
    "# data_file = data_parent_folder + '/FPNO_data/2D_Diffusion_Nu0.008.hdf5' # 0.001, 0.002, 0.004, 0.008\n",
    "\n",
    "u2d = 'u'\n",
    "\n",
    "dataset = PDEDataset(data_file, rx=None, verbose=True, load_now=False) # default resolution is 64\n",
    "\n",
    "u2d_rng = dataset.Vars[u2d]['maxabs']"
   ]
  },
  {
   "cell_type": "code",
   "execution_count": null,
   "metadata": {},
   "outputs": [],
   "source": [
    "@interact\n",
    "def plot(\n",
    "    index = widgets.IntSlider(\n",
    "        value=0, min=0, max=dataset.N-1, step=1, \n",
    "        description='index', style={'description_width': 'initial'}, layout=widgets.Layout(width='600px')),\n",
    "    timestep = widgets.IntSlider(\n",
    "        value=0, min=0, max=dataset.nt-1, step=1, \n",
    "        description='timestep', style={'description_width': 'initial'}, layout=widgets.Layout(width='600px')),\n",
    "    rng = widgets.FloatRangeSlider(\n",
    "        value=[-3, 3], min=-u2d_rng, max=u2d_rng, step=0.01, \n",
    "        description='range', style={'description_width': 'initial'}, layout=widgets.Layout(width='400px'))\n",
    "):\n",
    "    t = dataset.Coords['t-coordinate']['data'][timestep]\n",
    "    x = dataset.Coords['x-coordinate']['data']\n",
    "    y = dataset.Coords['y-coordinate']['data']\n",
    "    u = dataset.Vars[u2d]['data'][index, timestep]\n",
    "    \n",
    "    fig, ax = plt.subplots(figsize=(8, 5))\n",
    "    fig.suptitle(f'sample {index} | timestep {timestep} | time {t:.2f}')\n",
    "    ax.set_title(u2d)\n",
    "    ax.set_xlabel('x')\n",
    "    ax.set_ylabel('y')\n",
    "    ax.set_aspect('equal')\n",
    "    im = ax.pcolormesh(x, y, u.T, cmap='seismic', vmin=rng[0], vmax=rng[1], shading='gouraud')\n",
    "    fig.colorbar(im, ax=ax)\n",
    "    plt.show()\n"
   ]
  }
 ],
 "metadata": {
  "kernelspec": {
   "display_name": "PDE",
   "language": "python",
   "name": "python3"
  },
  "language_info": {
   "codemirror_mode": {
    "name": "ipython",
    "version": 3
   },
   "file_extension": ".py",
   "mimetype": "text/x-python",
   "name": "python",
   "nbconvert_exporter": "python",
   "pygments_lexer": "ipython3",
   "version": "3.9.19"
  }
 },
 "nbformat": 4,
 "nbformat_minor": 2
}
