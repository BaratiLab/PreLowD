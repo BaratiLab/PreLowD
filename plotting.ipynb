{
 "cells": [
  {
   "cell_type": "code",
   "execution_count": null,
   "metadata": {},
   "outputs": [],
   "source": [
    "import pandas as pd\n",
    "\n",
    "pd.set_option('display.max_rows', None)\n",
    "pd.set_option('display.max_columns', None)\n",
    "pd.set_option('display.width', None)\n",
    "\n",
    "\n",
    "def load_result_table_and_get_info(result_table_dir, y_var_keywords= ['val_loss', 'r5']):\n",
    "\n",
    "    result_df = pd.read_excel(result_table_dir)\n",
    "    varying_params = [\n",
    "        col for col in result_df.columns \n",
    "        if result_df[col].nunique() > 1 \n",
    "        and not ('loss' in col.lower() or 'time' in col.lower())\n",
    "    ]\n",
    "    print('varying parameters:', varying_params)\n",
    "\n",
    "    # These are the ones that will be plotted against x_vars. CUSTOMIZE\n",
    "    result_params = [\n",
    "        col for col in result_df.columns \n",
    "        if all([kw in col.lower() for kw in y_var_keywords])\n",
    "    ]\n",
    "\n",
    "    print('result parameters:', result_params)\n",
    "\n",
    "    return result_df, varying_params, result_params"
   ]
  },
  {
   "cell_type": "markdown",
   "metadata": {},
   "source": [
    "# 1D Advection beta=0.1"
   ]
  },
  {
   "cell_type": "raw",
   "metadata": {
    "vscode": {
     "languageId": "raw"
    }
   },
   "source": [
    "result_dir = 'results/1D_Advection_Beta0.1' # CUZTOMIZE\n",
    "result_df, group_params, result_params = load_result_table_and_get_info(result_dir+'/table.csv')\n",
    "\n",
    "# Based on what you get here, customize the arguments of the plotting function in the next cell"
   ]
  },
  {
   "cell_type": "raw",
   "metadata": {
    "vscode": {
     "languageId": "raw"
    }
   },
   "source": [
    "from plotting import plot_experiments\n",
    "\n",
    "plot_experiments(\n",
    "    result_df = result_df,\n",
    "    result_dir = result_dir,\n",
    "\n",
    "    group_params = ['n_layers', 'ffno_width'], # CUSTOMIZE\n",
    "\n",
    "    group_namer = lambda x: '|'.join([f'{k}={v}' for k, v in x.items()]),\n",
    "    subgroup_namer = lambda x: '|'.join([f'{k}={v}' for k, v in x.items()]),\n",
    "\n",
    "    # you can customize these two, but not recommended\n",
    "    result_keywords = ['loss', 'time'], \n",
    "    random_keywords = ['seed'],\n",
    "\n",
    "    varying_x_vars_only = True,\n",
    "    compact_group_name = True,\n",
    "    compact_subgroup_name = True,\n",
    "    \n",
    "    all_y_in_one = True,\n",
    "\n",
    "    # CUSTOMIZE these\n",
    "    x_vars = ['fourier_modes','rollout'],\n",
    "    x_labels = None,\n",
    "    x_scales = None,\n",
    "    x_tickers = None,\n",
    "\n",
    "    # CUSTOMIZE these\n",
    "    y_vars = result_params,\n",
    "    y_labels = None,\n",
    "    y_scales = None,\n",
    "    y_tickers = None,\n",
    "\n",
    "    save_dir = None, # change if you wanna save in the defualt place or not\n",
    "    save = False,  # change if you wanna save\n",
    "    show = True # change if you wanna show\n",
    "    )"
   ]
  },
  {
   "cell_type": "markdown",
   "metadata": {},
   "source": [
    "# 2D Advection beta=0.1"
   ]
  },
  {
   "cell_type": "code",
   "execution_count": null,
   "metadata": {},
   "outputs": [],
   "source": [
    "result_dir = 'results/2D_Advection_Beta0.1' # CUZTOMIZE\n",
    "result_df, group_params, result_params = load_result_table_and_get_info(result_dir+'/table.xlsx')\n",
    "\n",
    "# Based on what you get here, customize the arguments of the plotting function in the next cell"
   ]
  },
  {
   "cell_type": "code",
   "execution_count": null,
   "metadata": {},
   "outputs": [],
   "source": [
    "# removing the row with seed=1\n",
    "# result_df = result_df[result_df['seed']!=1]\n",
    "# keeping rows with transfer_in_vars==u or trnsfer_from==Nan\n",
    "# result_df = result_df[(result_df['freeze_in_vars']=='u') | (result_df['transfer_in_vars'].isna())]"
   ]
  },
  {
   "cell_type": "code",
   "execution_count": null,
   "metadata": {},
   "outputs": [],
   "source": [
    "from plotting import plot_experiments, model_namer, transfer_namer, log_tick_formatter\n",
    "\n",
    "plot_experiments(\n",
    "    result_df = result_df,\n",
    "    result_dir = result_dir,\n",
    "\n",
    "    group_params = ['fourier_modes'], # customize\n",
    "\n",
    "    group_namer = model_namer,\n",
    "    # subgroup_namer = transfer_namer,\n",
    "    subgroup_namer = lambda x: ' '.join(f'{k}={v}' if k in ['tune_fourier_layers', 'tune_ff_layers'] else '' for k,v in x.items()).strip() if x['transfer_from'] else 'no_transfer',\n",
    "\n",
    "    # you can customize these two, but not recommended\n",
    "    result_keywords = ['loss', 'time'],\n",
    "    random_keywords = ['seed'],\n",
    "\n",
    "    varying_x_vars_only = False,\n",
    "    compact_group_name = False,\n",
    "    compact_subgroup_name = True,\n",
    "    \n",
    "    all_y_in_one = True,\n",
    "\n",
    "    # CUSTOMIZE these\n",
    "    x_vars = ['frac_train_data'],\n",
    "    x_labels = ['downstream samples'],\n",
    "    x_scales = ['log'],\n",
    "    x_tickers = [log_tick_formatter],\n",
    "\n",
    "    # CUSTOMIZE these\n",
    "    y_vars = result_params,\n",
    "    y_labels = None,\n",
    "    y_scales = None,\n",
    "    y_tickers = None,\n",
    "\n",
    "    save_dir = None, # change if you wanna save in default place or not\n",
    "    save = False, # change if you wanna save\n",
    "    show = True # change if wana show\n",
    "\n",
    "    )"
   ]
  },
  {
   "cell_type": "code",
   "execution_count": null,
   "metadata": {},
   "outputs": [],
   "source": [
    "import torch\n",
    "from plotting import compare_FFNOs\n",
    "\n",
    "ffno_1_path = 'results/1D_Advection_Beta0.1/models/model_00009.pt'\n",
    "\n",
    "ffno_2_path = 'results/2D_Advection_Beta0.1/models/model_00007.pt'\n",
    "\n",
    "ffno_1 = torch.load(ffno_1_path)\n",
    "ffno_2 = torch.load(ffno_2_path)\n",
    "\n",
    "compare_FFNOs(ffno_1, ffno_2, show=True, save='')"
   ]
  },
  {
   "cell_type": "code",
   "execution_count": null,
   "metadata": {},
   "outputs": [],
   "source": []
  }
 ],
 "metadata": {
  "kernelspec": {
   "display_name": "PDE",
   "language": "python",
   "name": "python3"
  },
  "language_info": {
   "codemirror_mode": {
    "name": "ipython",
    "version": 3
   },
   "file_extension": ".py",
   "mimetype": "text/x-python",
   "name": "python",
   "nbconvert_exporter": "python",
   "pygments_lexer": "ipython3",
   "version": "3.9.19"
  }
 },
 "nbformat": 4,
 "nbformat_minor": 2
}
